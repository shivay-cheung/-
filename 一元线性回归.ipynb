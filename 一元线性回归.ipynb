{
 "cells": [
  {
   "cell_type": "markdown",
   "metadata": {},
   "source": [
    "# 梯度下降法"
   ]
  },
  {
   "cell_type": "code",
   "execution_count": 1,
   "metadata": {},
   "outputs": [
    {
     "name": "stdout",
     "output_type": "stream",
     "text": [
      "Start b=0 , k=0 , total_loss=356.75 \n",
      "\n",
      "End b=1.8517579664958317 , k=1.0051139129312554 , total_loss=0.0028416868085281615 \n",
      "\n"
     ]
    },
    {
     "data": {
      "image/png": "[encoded data removed]",
      "text/plain": [
       "<Figure size 432x288 with 1 Axes>"
      ]
     },
     "metadata": {},
     "output_type": "display_data"
    },
    {
     "name": "stdout",
     "output_type": "stream",
     "text": [
      "50.0 52.1074536130586\n"
     ]
    }
   ],
   "source": [
    "import numpy as np\n",
    "import matplotlib.pyplot as plt\n",
    "\n",
    "#加载数据\n",
    "data=np.genfromtxt(\"一元线性回归.csv\",delimiter=\",\")#(路径 ,分隔符)\n",
    "\n",
    "x_data=data[:,0]\n",
    "y_data=data[:,1]\n",
    "#plt.scatter(x_data,y_data)\n",
    "#plt.show()\n",
    "\n",
    "#学习率\n",
    "lr=0.001\n",
    "#截距 theta0\n",
    "b=0\n",
    "#斜率 theta1\n",
    "k=0\n",
    "#最大迭代次数\n",
    "episodes=10000\n",
    "\n",
    "def calculate_loss(b,k,x_data,y_data):\n",
    "    total_error=0\n",
    "    for i in range(len(x_data)):\n",
    "        loss=(y_data[i]-(k*x_data[i]+b))**2#loss=(y_true-y_predict)**2\n",
    "        total_error = total_error+loss\n",
    "    return total_error/float(len(x_data))/2.0\n",
    "\n",
    "def gradient_descent(x_data,y_data,b,k,lr,episode):\n",
    "    m=float(len(x_data))   \n",
    "    #循环迭代\n",
    "    for i in range(episode):\n",
    "        b_grad=0\n",
    "        k_grad=0\n",
    "        #计算梯度\n",
    "        for j in range(len(x_data)):\n",
    "            b_grad+=(1/m)*((k*x_data[j]+b)-y_data[j])\n",
    "            k_grad+=(1/m)*x_data[j]*(((k*x_data[j])+b)-y_data[j])\n",
    "        #更新b 和 k\n",
    "        b=b-(lr*b_grad)\n",
    "        k=k-(lr*k_grad)\n",
    "        #每迭代10次，输出当前优化效果\n",
    "#         if i%10 == 0:\n",
    "#             print(\"episode {0}\".format(i))\n",
    "#             plt.plot(x_data,y_data,'b.')\n",
    "#             plt.plot(x_data,k*x_data+b,'r')\n",
    "#             plt.show()\n",
    "    return b,k\n",
    "print(\"Start b={0} , k={1} , total_loss={2} \\n\".format(b,k,calculate_loss(b,k,x_data,y_data)))\n",
    "\n",
    "b,k=gradient_descent(x_data,y_data,b,k,lr,episodes)\n",
    "\n",
    "print(\"End b={0} , k={1} , total_loss={2} \\n\".format(b,k,calculate_loss(b,k,x_data,y_data)))\n",
    "\n",
    "x_predict=x_data[-1]+7\n",
    "y_predict=k*x_predict+b\n",
    "\n",
    "#画图\n",
    "plt.plot(x_data,y_data,'b.')\n",
    "plt.plot(x_data,k*x_data+b,'r')\n",
    "plt.plot(x_predict,k*x_predict+b,'g*')\n",
    "plt.show()\n",
    "\n",
    "print(x_predict,y_predict)"
   ]
  },
  {
   "cell_type": "markdown",
   "metadata": {
    "collapsed": true
   },
   "source": [
    "# 使用sklearn 完成一元线性回归"
   ]
  },
  {
   "cell_type": "code",
   "execution_count": 2,
   "metadata": {},
   "outputs": [
    {
     "data": {
      "image/png": "[encoded data removed]",
      "text/plain": [
       "<Figure size 432x288 with 1 Axes>"
      ]
     },
     "metadata": {},
     "output_type": "display_data"
    },
    {
     "name": "stdout",
     "output_type": "stream",
     "text": [
      "50 [[52.]]\n"
     ]
    }
   ],
   "source": [
    "from sklearn.linear_model import LinearRegression\n",
    "import numpy as np\n",
    "import matplotlib.pyplot as plt\n",
    "\n",
    "#加载数据\n",
    "data=np.genfromtxt(\"一元线性回归.csv\",delimiter=\",\")#(路径 ,分隔符)\n",
    "\n",
    "#给数据加上维度 方便sklearn使用\n",
    "x_data=data[:,0,np.newaxis]\n",
    "y_data=data[:,1,np.newaxis]\n",
    "\n",
    "#创建模型 model是LinearRegression的对象\n",
    "model=LinearRegression()\n",
    "#拟合模型\n",
    "model.fit(x_data,y_data)\n",
    "LinearRegression.\n",
    "\n",
    "\n",
    "#画图 \n",
    "plt.plot(x_data,y_data,'b.')\n",
    "plt.plot(x_data,model.predict(x_data),'r')#model.predict 预测\n",
    "plt.show()\n",
    "x_predict=50\n",
    "y_predict=model.predict(x_predict)\n",
    "print(x_predict,y_predict)"
   ]
  },
  {
   "cell_type": "code",
   "execution_count": null,
   "metadata": {
    "collapsed": true
   },
   "outputs": [],
   "source": []
  }
 ],
 "metadata": {
  "kernelspec": {
   "display_name": "Python 3",
   "language": "python",
   "name": "python3"
  },
  "language_info": {
   "codemirror_mode": {
    "name": "ipython",
    "version": 3
   },
   "file_extension": ".py",
   "mimetype": "text/x-python",
   "name": "python",
   "nbconvert_exporter": "python",
   "pygments_lexer": "ipython3",
   "version": "3.6.6"
  }
 },
 "nbformat": 4,
 "nbformat_minor": 2
}

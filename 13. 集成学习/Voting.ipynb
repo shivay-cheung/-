{
 "cells": [
  {
   "cell_type": "code",
   "execution_count": 1,
   "metadata": {},
   "outputs": [
    {
     "name": "stdout",
     "output_type": "stream",
     "text": [
      "Accuracy:0.91 [KNN]\n",
      "Accuracy:0.88 [DecisionTree]\n",
      "Accuracy:0.91 [LogisticRegression]\n",
      "Accuracy:0.93 [Voting]\n"
     ]
    }
   ],
   "source": [
    "import numpy as np\n",
    "from sklearn import datasets\n",
    "from sklearn import model_selection\n",
    "from sklearn.linear_model import LogisticRegression\n",
    "from sklearn.neighbors import KNeighborsClassifier\n",
    "from sklearn.tree import DecisionTreeClassifier\n",
    "from sklearn.ensemble import VotingClassifier\n",
    "import warnings\n",
    "\n",
    "warnings.filterwarnings(\"ignore\")#消除警告\n",
    "\n",
    "#载入数据集\n",
    "iris = datasets.load_iris()\n",
    "\n",
    "#只要第1，2列的特征\n",
    "x_data,y_data = iris.data[:,1:3],iris.target\n",
    "\n",
    "#定义三个不同的 初级分类器\n",
    "clf1 = KNeighborsClassifier(n_neighbors=1)\n",
    "clf2 = DecisionTreeClassifier()\n",
    "clf3 = LogisticRegression()\n",
    "\n",
    "sclf = VotingClassifier([('knn',clf1),('tree',clf2),('logisticRegression',clf3)])\n",
    "\n",
    "for clf,label in zip([clf1,clf2,clf3,sclf],\n",
    "                    ['KNN','DecisionTree','LogisticRegression','Voting']):\n",
    "    \n",
    "    scores = model_selection.cross_val_score(clf,x_data,y_data,cv=3,scoring='accuracy')\n",
    "    print('Accuracy:%0.2f [%s]'%(scores.mean(),label))\n",
    "\n"
   ]
  },
  {
   "cell_type": "code",
   "execution_count": null,
   "metadata": {
    "collapsed": true
   },
   "outputs": [],
   "source": []
  },
  {
   "cell_type": "code",
   "execution_count": null,
   "metadata": {
    "collapsed": true
   },
   "outputs": [],
   "source": []
  },
  {
   "cell_type": "code",
   "execution_count": null,
   "metadata": {
    "collapsed": true
   },
   "outputs": [],
   "source": []
  }
 ],
 "metadata": {
  "kernelspec": {
   "display_name": "Python 3",
   "language": "python",
   "name": "python3"
  },
  "language_info": {
   "codemirror_mode": {
    "name": "ipython",
    "version": 3
   },
   "file_extension": ".py",
   "mimetype": "text/x-python",
   "name": "python",
   "nbconvert_exporter": "python",
   "pygments_lexer": "ipython3",
   "version": "3.6.6"
  }
 },
 "nbformat": 4,
 "nbformat_minor": 2
}

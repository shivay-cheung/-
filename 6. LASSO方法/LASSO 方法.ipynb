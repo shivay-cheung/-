{
 "cells": [
  {
   "cell_type": "markdown",
   "metadata": {},
   "source": [
    "# sklearn 实现LASSO方法"
   ]
  },
  {
   "cell_type": "code",
   "execution_count": 2,
   "metadata": {},
   "outputs": [
    {
     "name": "stdout",
     "output_type": "stream",
     "text": [
      "20.03464209711722\n",
      "[0.10206856 0.00409161 0.00354815 0.         0.         0.        ]\n",
      "[115.6461414]\n"
     ]
    }
   ],
   "source": [
    "import numpy as np\n",
    "from sklearn import linear_model\n",
    "\n",
    "#载入数据\n",
    "data = np.genfromtxt(\"longley.csv\",delimiter=',')\n",
    "# print(data)\n",
    "\n",
    "#切分数据\n",
    "x_data = data[1:,2:]\n",
    "y_data = data[1:,1]\n",
    "\n",
    "#创建模型\n",
    "model = linear_model.LassoCV()\n",
    "model.fit(x_data,y_data)\n",
    "\n",
    "#lasso 系数\n",
    "print(model.alpha_)\n",
    "\n",
    "#相关系数\n",
    "print(model.coef_)\n",
    "\n",
    "#测试预测\n",
    "print(model.predict(x_data[-2,np.newaxis]))\n"
   ]
  },
  {
   "cell_type": "code",
   "execution_count": null,
   "metadata": {
    "collapsed": true
   },
   "outputs": [],
   "source": []
  },
  {
   "cell_type": "code",
   "execution_count": null,
   "metadata": {
    "collapsed": true
   },
   "outputs": [],
   "source": []
  }
 ],
 "metadata": {
  "kernelspec": {
   "display_name": "Python 3",
   "language": "python",
   "name": "python3"
  },
  "language_info": {
   "codemirror_mode": {
    "name": "ipython",
    "version": 3
   },
   "file_extension": ".py",
   "mimetype": "text/x-python",
   "name": "python",
   "nbconvert_exporter": "python",
   "pygments_lexer": "ipython3",
   "version": "3.6.6"
  }
 },
 "nbformat": 4,
 "nbformat_minor": 2
}

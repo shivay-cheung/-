{
 "cells": [
  {
   "cell_type": "markdown",
   "metadata": {},
   "source": [
    "# 逻辑回归"
   ]
  },
  {
   "cell_type": "code",
   "execution_count": 7,
   "metadata": {},
   "outputs": [
    {
     "data": {
      "image/png": "[encoded data removed]",
      "text/plain": [
       "<Figure size 432x288 with 1 Axes>"
      ]
     },
     "metadata": {},
     "output_type": "display_data"
    }
   ],
   "source": [
    "'''\n",
    "sigmoid函数图像\n",
    "'''\n",
    "import numpy as np\n",
    "import matplotlib.pyplot as plt\n",
    "\n",
    "x1=np.arange(-6,6,0.01)\n",
    "g_x=[]\n",
    "for x in x1:\n",
    "    g_x.append((1.0/(1+np.exp(-x))))\n",
    "    \n",
    "plt.plot(x1,g_x)\n",
    "plt.plot(0,1.0/(1+np.exp(-0)),'r.')\n",
    "\n",
    "plt.show()\n"
   ]
  },
  {
   "cell_type": "code",
   "execution_count": 1,
   "metadata": {
    "scrolled": true
   },
   "outputs": [
    {
     "data": {
      "image/png": "[encoded data removed]",
      "text/plain": [
       "<Figure size 432x288 with 1 Axes>"
      ]
     },
     "metadata": {},
     "output_type": "display_data"
    },
    {
     "name": "stdout",
     "output_type": "stream",
     "text": [
      "             precision    recall  f1-score   support\n",
      "\n",
      "        0.0       0.89      0.89      0.89         9\n",
      "        1.0       0.90      0.90      0.90        10\n",
      "\n",
      "avg / total       0.89      0.89      0.89        19\n",
      "\n"
     ]
    }
   ],
   "source": [
    "import numpy as np\n",
    "import matplotlib.pyplot as plt\n",
    "from sklearn.metrics import classification_report #评估\n",
    "from sklearn import preprocessing\n",
    "\n",
    "#数据是否需要标准化\n",
    "scale = True\n",
    "\n",
    "#载入数据\n",
    "data = np.genfromtxt(\"逻辑回归.csv\",delimiter=',')\n",
    "x_data = data[:,:-1]\n",
    "y_data = data[:,-1]\n",
    "\n",
    "def plot():\n",
    "    x0 = []\n",
    "    x1 = []\n",
    "    y0 = []\n",
    "    y1 = []\n",
    "    #切分不同类别的数据\n",
    "    for i in range(len(x_data)):\n",
    "        if y_data[i] == 0:\n",
    "            x0.append(x_data[i,0])\n",
    "            y0.append(x_data[i,1])\n",
    "        else:\n",
    "            x1.append(x_data[i,0])\n",
    "            y1.append(x_data[i,1])\n",
    "    #画图\n",
    "    scatter0 = plt.scatter(x0,y0,c='b',marker='o')\n",
    "    scatter1 = plt.scatter(x1,y1,c='r',marker='x')\n",
    "    #画图例\n",
    "    plt.legend(handles=[scatter0,scatter1],labels=[\"label0\",\"label1\"],loc=\"best\")\n",
    "    \n",
    "def sigmoid(x):\n",
    "    return 1.0/(1+np.exp(-x))\n",
    "\n",
    "#代价函数\n",
    "def cost(xMat,yMat,ws):\n",
    "    left = np.multiply(yMat,np.log(1-sigmoid(xMat*ws)))\n",
    "    right = np.multiply(1-yMat,np.log(1-sigmoid(xMat*ws)))\n",
    "    return np.sum(left+right)/-(len(xMat))\n",
    "\n",
    "def gradAscent(xArr,yArr):\n",
    "    if scale == True:\n",
    "        xArr = preprocessing.scale(xArr)\n",
    "    xMat = np.mat(xArr)\n",
    "    yMat = np.mat(yArr)\n",
    "    \n",
    "    lr = 0.001\n",
    "    epochs = 10000\n",
    "    costList = []\n",
    "    #计算数据行列数\n",
    "    #m,行,代表数据个数   n,列,代表权值个数\n",
    "    m,n = np.shape(xMat)\n",
    "    #初始化权值\n",
    "    ws = np.mat(np.ones((n,1))) \n",
    "    \n",
    "    for i in range(epochs+1):\n",
    "        #样本的预测值 = xMat 和 weights 矩阵相乘\n",
    "        h=sigmoid(xMat*ws)\n",
    "        #计算误差\n",
    "        ws_grad = xMat.T*(h-yMat)/m\n",
    "        ws = ws - lr*ws_grad\n",
    "        \n",
    "        if i%100 == 0:\n",
    "            costList.append(cost(xMat,yMat,ws))\n",
    "    return ws,costList\n",
    "\n",
    "#数据处理，添加偏置项\n",
    "x_data = data[:,:-1]\n",
    "y_data = data[:,-1,np.newaxis]\n",
    "X_data = np.concatenate((np.ones((len(x_data),1)),x_data),axis=1)\n",
    "\n",
    "#训练模型，得到权值和cost值的变化\n",
    "ws,cost_list = gradAscent(X_data,y_data)\n",
    "\n",
    "# print(ws)\n",
    "\n",
    "if scale == False:\n",
    "    #画图决策边界\n",
    "    plot()\n",
    "    x_test = [[-4],[3]]\n",
    "    y_test = (-ws[0]-x_test*ws[1])/ws[2]\n",
    "    plt.plot(x_test,y_test,'k')#两点确定一条直线\n",
    "    plt.show()\n",
    "##画出loss值的变化\n",
    "x = np.linspace(0,10000,101)\n",
    "plt.plot(x,cost_list,c='r')\n",
    "plt.title(\"Train\")\n",
    "plt.xlabel(\"Epochs\")\n",
    "plt.ylabel(\"Cost\")\n",
    "plt.show()\n",
    "    \n",
    "#预测\n",
    "def predict(x_data,ws):\n",
    "    if scale == True:\n",
    "        x_data = preprocessing.scale(x_data)\n",
    "    xMat = np.mat(x_data)\n",
    "    ws = np.mat(ws)\n",
    "    return [1 if x>=0.5 else 0 for x in sigmoid(xMat*ws)]\n",
    "\n",
    "prediction = predict(X_data,ws)\n",
    "print(classification_report(y_data,prediction))\n"
   ]
  },
  {
   "cell_type": "markdown",
   "metadata": {},
   "source": [
    "# sklearn 实现逻辑回归"
   ]
  },
  {
   "cell_type": "code",
   "execution_count": 1,
   "metadata": {},
   "outputs": [
    {
     "name": "stdout",
     "output_type": "stream",
     "text": [
      "[1.67838297] [[ 0.00416758 -0.27179007]]\n"
     ]
    },
    {
     "data": {
      "image/png": "[encoded data removed]",
      "text/plain": [
       "<Figure size 432x288 with 1 Axes>"
      ]
     },
     "metadata": {},
     "output_type": "display_data"
    },
    {
     "name": "stdout",
     "output_type": "stream",
     "text": [
      "             precision    recall  f1-score   support\n",
      "\n",
      "        0.0       0.75      1.00      0.86         9\n",
      "        1.0       1.00      0.70      0.82        10\n",
      "\n",
      "avg / total       0.88      0.84      0.84        19\n",
      "\n"
     ]
    }
   ],
   "source": [
    "import numpy as np\n",
    "from sklearn.metrics import classification_report\n",
    "from sklearn import preprocessing\n",
    "from sklearn import linear_model\n",
    "import matplotlib.pyplot as plt\n",
    "\n",
    "#载入数据\n",
    "data = np.genfromtxt(\"逻辑回归.csv\",delimiter=',')\n",
    "x_data = data[:,:-1]\n",
    "y_data = data[:,-1]\n",
    "\n",
    "scale = False#数据是否需要标准化\n",
    "\n",
    "def plot():\n",
    "    x0 = []\n",
    "    x1 = []\n",
    "    y0 = []\n",
    "    y1 = []\n",
    "    #切分不同类别的数据\n",
    "    for i in range(len(x_data)):\n",
    "        if y_data[i] == 0:\n",
    "            x0.append(x_data[i,0])\n",
    "            y0.append(x_data[i,1])\n",
    "        else:\n",
    "            x1.append(x_data[i,0])\n",
    "            y1.append(x_data[i,1])\n",
    "    #画图\n",
    "    scatter0 = plt.scatter(x0,y0,c='b',marker='o')\n",
    "    scatter1 = plt.scatter(x1,y1,c='r',marker='x')\n",
    "    #画图例\n",
    "    plt.legend(handles=[scatter0,scatter1],labels=[\"label0\",\"label1\"],loc=\"best\")\n",
    "\n",
    "#定义逻辑回归模型\n",
    "logistic = linear_model.LogisticRegression()\n",
    "logistic.fit(x_data,y_data)\n",
    "\n",
    "print(logistic.intercept_,logistic.coef_)\n",
    "\n",
    "if scale == False:\n",
    "    #画图 决策边界\n",
    "    plot()\n",
    "    x_test = np.array([[-4],[3]])\n",
    "    y_test = (-logistic.intercept_ - x_test*logistic.coef_[0][0])/logistic.coef_[0][1]\n",
    "    plt.plot(x_test,y_test,'k')\n",
    "    plt.show()\n",
    "    \n",
    "#效果指标\n",
    "predictions = logistic.predict(x_data)\n",
    "print(classification_report(y_data,predictions))\n"
   ]
  },
  {
   "cell_type": "markdown",
   "metadata": {},
   "source": [
    "# 梯度下降法-非线性逻辑回归"
   ]
  },
  {
   "cell_type": "code",
   "execution_count": 1,
   "metadata": {},
   "outputs": [
    {
     "name": "stderr",
     "output_type": "stream",
     "text": [
      "C:\\Users\\HL\\Anaconda3\\lib\\site-packages\\ipykernel_launcher.py:39: RuntimeWarning: divide by zero encountered in log\n",
      "C:\\Users\\HL\\Anaconda3\\lib\\site-packages\\ipykernel_launcher.py:39: RuntimeWarning: invalid value encountered in multiply\n"
     ]
    },
    {
     "data": {
      "image/png": "[encoded data removed]",
      "text/plain": [
       "<Figure size 432x288 with 1 Axes>"
      ]
     },
     "metadata": {},
     "output_type": "display_data"
    }
   ],
   "source": [
    "import numpy as np\n",
    "from sklearn.metrics import classification_report\n",
    "from sklearn import preprocessing\n",
    "from sklearn.preprocessing import PolynomialFeatures\n",
    "import matplotlib.pyplot as plt\n",
    "\n",
    "#载入数据\n",
    "data = np.genfromtxt(\"逻辑回归.csv\",delimiter=',')\n",
    "x_data = data[:,:-1]\n",
    "y_data = data[:,-1,np.newaxis]\n",
    "\n",
    "scale = False#数据是否需要标准化\n",
    "\n",
    "def plot():\n",
    "    x0 = []\n",
    "    x1 = []\n",
    "    y0 = []\n",
    "    y1 = []\n",
    "    #切分不同类别的数据\n",
    "    for i in range(len(x_data)):\n",
    "        if y_data[i] == 0:\n",
    "            x0.append(x_data[i,0])\n",
    "            y0.append(x_data[i,1])\n",
    "        else:\n",
    "            x1.append(x_data[i,0])\n",
    "            y1.append(x_data[i,1])\n",
    "    #画图\n",
    "    scatter0 = plt.scatter(x0,y0,c='b',marker='o')\n",
    "    scatter1 = plt.scatter(x1,y1,c='r',marker='x')\n",
    "    #画图例\n",
    "    plt.legend(handles=[scatter0,scatter1],labels=[\"label0\",\"label1\"],loc=\"best\")\n",
    "\n",
    "def sigmoid(x):\n",
    "    return 1.0/(1+np.exp(-x))\n",
    "\n",
    "#代价函数\n",
    "def cost(xMat,yMat,ws):\n",
    "    left = np.multiply(yMat,np.log(sigmoid(xMat*ws)))\n",
    "    right = np.multiply(1-yMat,np.log(1-sigmoid(xMat*ws)))\n",
    "    return np.sum(left+right)/-(len(xMat))\n",
    "\n",
    "def gradAscent(xArr,yArr):\n",
    "    if scale == True:\n",
    "        xArr = preprocessing.scale(xArr)\n",
    "    xMat = np.mat(xArr)\n",
    "    yMat = np.mat(yArr)\n",
    "    \n",
    "    lr = 0.001\n",
    "    epochs = 10000\n",
    "    costList = []\n",
    "    #计算数据行列数\n",
    "    #m,行,代表数据个数   n,列,代表权值个数\n",
    "    m,n = np.shape(xMat)\n",
    "    #初始化权值\n",
    "    ws = np.mat(np.ones((n,1))) \n",
    "    \n",
    "    for i in range(epochs+1):\n",
    "        #样本的预测值 = xMat 和 weights 矩阵相乘\n",
    "        h=sigmoid(xMat*ws)\n",
    "        #计算误差\n",
    "        ws_grad = xMat.T*(h-yMat)/m\n",
    "        ws = ws - lr*ws_grad\n",
    "        \n",
    "        if i%100 == 0:\n",
    "            costList.append(cost(xMat,yMat,ws))\n",
    "    return ws,costList\n",
    "\n",
    "\n",
    "# 定义多项式回归，degree的值可以调节多项式的特征\n",
    "poly_reg = PolynomialFeatures(degree=2)\n",
    "\n",
    "#特征处理\n",
    "x_poly = poly_reg.fit_transform(x_data)\n",
    "\n",
    "#训练模型，得到权值和cost值的变化\n",
    "ws,cost_list = gradAscent(x_poly,y_data)\n",
    "\n",
    "#获取数据值所在的范围\n",
    "x_min,x_max = x_data[:,0].min()-1,x_data[:,0].max()+1\n",
    "y_min,y_max = x_data[:,1].min()-1,x_data[:,1].max()+1\n",
    "\n",
    "#生成网格矩阵\n",
    "xx,yy = np.meshgrid(np.arange(x_min,x_max,0.02),\n",
    "                   np.arange(y_min,y_max,0.02))\n",
    "#ravel 与 flatten 类似，多维数据转一维 flatten 不会改变原始值\n",
    "z = sigmoid(poly_reg.fit_transform(np.c_[xx.ravel(),yy.ravel()]).dot(np.array(ws)))\n",
    "            \n",
    "for i in range(len(z)):\n",
    "    if z[i] > 0.5:\n",
    "        z[i]=1\n",
    "    else:\n",
    "        z[i]=0\n",
    "            \n",
    "z=z.reshape(xx.shape)\n",
    "\n",
    "#画等高线图\n",
    "cs = plt.contourf(xx,yy,z)\n",
    "plot() #画数据点\n",
    "\n",
    "plt.plot()\n",
    "plt.show()\n"
   ]
  },
  {
   "cell_type": "code",
   "execution_count": null,
   "metadata": {
    "collapsed": true
   },
   "outputs": [],
   "source": []
  }
 ],
 "metadata": {
  "kernelspec": {
   "display_name": "Python 3",
   "language": "python",
   "name": "python3"
  },
  "language_info": {
   "codemirror_mode": {
    "name": "ipython",
    "version": 3
   },
   "file_extension": ".py",
   "mimetype": "text/x-python",
   "name": "python",
   "nbconvert_exporter": "python",
   "pygments_lexer": "ipython3",
   "version": "3.6.6"
  }
 },
 "nbformat": 4,
 "nbformat_minor": 2
}

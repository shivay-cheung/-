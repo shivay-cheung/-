{
 "cells": [
  {
   "cell_type": "markdown",
   "metadata": {},
   "source": [
    "# sklearn 实现多项式回归"
   ]
  },
  {
   "cell_type": "code",
   "execution_count": 33,
   "metadata": {},
   "outputs": [
    {
     "data": {
      "image/png": "[encoded data removed]",
      "text/plain": [
       "<Figure size 432x288 with 1 Axes>"
      ]
     },
     "metadata": {},
     "output_type": "display_data"
    }
   ],
   "source": [
    "import numpy as np\n",
    "import matplotlib.pyplot as plt\n",
    "from sklearn.preprocessing import PolynomialFeatures\n",
    "from sklearn.linear_model import LinearRegression\n",
    "\n",
    "#载入数据\n",
    "data=np.genfromtxt(\"多项式回归.csv\",delimiter=',')\n",
    "x_data=data[:,0,np.newaxis]\n",
    "y_data=data[:,1,np.newaxis]\n",
    "# print(y_data)\n",
    "\n",
    "##-------------------- 线性回归 -------------------------\n",
    "#创建线性回归模型 \n",
    "model=LinearRegression()\n",
    "model.fit(x_data,y_data)\n",
    "plt.plot(x_data,y_data,'b.')\n",
    "plt.plot(x_data,model.predict(x_data),'r')\n",
    "\n",
    "##-------------------- 多项式回归 -------------------------\n",
    "#创建多项式回归模型\n",
    "poly_reg = PolynomialFeatures(degree=2)#degree调节多项式特征\n",
    "\n",
    "#特征处理\n",
    "x_poly = poly_reg.fit_transform(x_data)\n",
    "\n",
    "#定义回归模型\n",
    "lin_reg = LinearRegression()\n",
    "\n",
    "#训练模型\n",
    "lin_reg.fit(x_poly,y_data)\n",
    "\n",
    "#画图  \n",
    "plt.plot(x_data,lin_reg.predict(poly_reg.fit_transform(x_data)),'g')\n",
    "plt.title('contrast')\n",
    "plt.xlabel('level')\n",
    "plt.ylabel('Salary')\n",
    "plt.show()"
   ]
  },
  {
   "cell_type": "code",
   "execution_count": null,
   "metadata": {
    "collapsed": true
   },
   "outputs": [],
   "source": []
  },
  {
   "cell_type": "code",
   "execution_count": null,
   "metadata": {
    "collapsed": true
   },
   "outputs": [],
   "source": []
  },
  {
   "cell_type": "code",
   "execution_count": null,
   "metadata": {
    "collapsed": true
   },
   "outputs": [],
   "source": []
  },
  {
   "cell_type": "code",
   "execution_count": null,
   "metadata": {
    "collapsed": true
   },
   "outputs": [],
   "source": []
  }
 ],
 "metadata": {
  "kernelspec": {
   "display_name": "Python 3",
   "language": "python",
   "name": "python3"
  },
  "language_info": {
   "codemirror_mode": {
    "name": "ipython",
    "version": 3
   },
   "file_extension": ".py",
   "mimetype": "text/x-python",
   "name": "python",
   "nbconvert_exporter": "python",
   "pygments_lexer": "ipython3",
   "version": "3.6.6"
  }
 },
 "nbformat": 4,
 "nbformat_minor": 2
}

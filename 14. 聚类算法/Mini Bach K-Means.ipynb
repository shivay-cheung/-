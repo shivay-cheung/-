{
 "cells": [
  {
   "cell_type": "markdown",
   "metadata": {},
   "source": [
    "# Mini Bach K-Means"
   ]
  },
  {
   "cell_type": "code",
   "execution_count": 1,
   "metadata": {},
   "outputs": [
    {
     "name": "stdout",
     "output_type": "stream",
     "text": [
      "[[ 1.95449136 -2.57939134]\n",
      " [-2.20726474  2.29647429]\n",
      " [ 2.53200508  3.03582006]\n",
      " [-3.28219205 -2.69596403]]\n",
      "[1 0 3 2 1 0 3 2 1 0 0 2 1 0 3 2 1 0 3 2 1 0 3 2 1 0 3 2 1 0 3 2 1]\n"
     ]
    },
    {
     "data": {
      "image/png": "[encoded data removed]",
      "text/plain": [
       "<Figure size 432x288 with 1 Axes>"
      ]
     },
     "metadata": {},
     "output_type": "display_data"
    }
   ],
   "source": [
    "import numpy as np\n",
    "import matplotlib.pyplot as plt \n",
    "from sklearn.cluster import MiniBatchKMeans\n",
    "\n",
    "#加载数据\n",
    "data = np.genfromtxt(\"kmeans.csv\",delimiter=',')\n",
    "\n",
    "#设置k值\n",
    "k = 4\n",
    "\n",
    "#创建模型 并训练模型\n",
    "model = MiniBatchKMeans(n_clusters=k)\n",
    "model.fit(data)\n",
    "\n",
    "#分类中心点坐标\n",
    "centers = model.cluster_centers_\n",
    "print(centers)\n",
    "\n",
    "#预测\n",
    "result = model.predict(data)\n",
    "# print(result)\n",
    "# print(model.labels_)#同样输出预测结果\n",
    "\n",
    "#获得簇的作用域\n",
    "x_min,x_max = data[:,0].min()-1,data[:,0].max()+1\n",
    "y_min,y_max = data[:,1].min()-1,data[:,1].max()+1\n",
    "\n",
    "#生成网格矩阵\n",
    "xx,yy = np.meshgrid(np.arange(x_min,x_max,0.02),\n",
    "                   np.arange(y_min,y_max,0.02))\n",
    "\n",
    "z = model.predict(np.c_[xx.ravel(),yy.ravel()])\n",
    "z = z.reshape(xx.shape)\n",
    "\n",
    "#等高线图\n",
    "cs = plt.contourf(xx,yy,z)\n",
    "\n",
    "#画出各个数据点，用不同颜色表示分类\n",
    "mark = ['or','ob','og','ok']\n",
    "for i,d in enumerate(data):\n",
    "    plt.plot(d[0],d[1],mark[result[i]])\n",
    "\n",
    "for i,d in enumerate(data):\n",
    "    plt.plot(d[0],d[1],mark[result[i]])\n",
    "\n",
    "#画出各个分类的中心点\n",
    "mark = ['*r','*b','*g','*k']\n",
    "\n",
    "for i,center in enumerate(centers):\n",
    "    plt.plot(center[0],center[1],mark[i],markersize=20)\n",
    "\n",
    "    \n",
    "plt.show()\n"
   ]
  },
  {
   "cell_type": "code",
   "execution_count": null,
   "metadata": {
    "collapsed": true
   },
   "outputs": [],
   "source": []
  }
 ],
 "metadata": {
  "kernelspec": {
   "display_name": "Python 3",
   "language": "python",
   "name": "python3"
  },
  "language_info": {
   "codemirror_mode": {
    "name": "ipython",
    "version": 3
   },
   "file_extension": ".py",
   "mimetype": "text/x-python",
   "name": "python",
   "nbconvert_exporter": "python",
   "pygments_lexer": "ipython3",
   "version": "3.6.6"
  }
 },
 "nbformat": 4,
 "nbformat_minor": 2
}

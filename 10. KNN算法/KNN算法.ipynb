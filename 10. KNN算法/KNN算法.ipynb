{
 "cells": [
  {
   "cell_type": "code",
   "execution_count": null,
   "metadata": {
    "collapsed": true
   },
   "outputs": [],
   "source": []
  },
  {
   "cell_type": "code",
   "execution_count": 2,
   "metadata": {},
   "outputs": [
    {
     "data": {
      "image/png": "[encoded data removed]",
      "text/plain": [
       "<Figure size 432x288 with 1 Axes>"
      ]
     },
     "metadata": {},
     "output_type": "display_data"
    },
    {
     "name": "stdout",
     "output_type": "stream",
     "text": [
      "[1 2 0 5 3 4]\n",
      "A\n"
     ]
    }
   ],
   "source": [
    "import matplotlib.pyplot as plt\n",
    "import numpy as np\n",
    "import operator\n",
    "\n",
    "#已知分类的数据\n",
    "x1 = np.array([3,2,1])\n",
    "y1 = np.array([104,100,81])\n",
    "\n",
    "x2 = np.array([101,99,98])\n",
    "y2 = np.array([10,5,2])\n",
    "\n",
    "scatter1 = plt.scatter(x1,y1,c='r')\n",
    "scatter2 = plt.scatter(x2,y2,c='b')\n",
    "\n",
    "#未知数据\n",
    "x = np.array([18])\n",
    "y = np.array([90])\n",
    "scatter3 = plt.scatter(x,y,c='k')\n",
    "\n",
    "#画图例\n",
    "plt.legend(handles=[scatter1,scatter2,scatter3],labels=['labelA','labelB','X'],loc='best')\n",
    "\n",
    "plt.show()\n",
    "\n",
    "#已知分类的数据\n",
    "x_data = np.array([[3,104],\n",
    "                  [2,100],\n",
    "                  [1,81],\n",
    "                  [101,10],\n",
    "                  [99,5],\n",
    "                  [81,2]])\n",
    "\n",
    "y_data = np.array(['A','A','A','B','B','B'])\n",
    "x_test = np.array([18,90])\n",
    "\n",
    "#计算样本数量\n",
    "x_data_size = x_data.shape[0]\n",
    "\n",
    "##复制 x_test 计算 x_test 与每一个样本的差值\n",
    "diff_Mat = np.tile(x_test,(x_data_size,1)) - x_data\n",
    "\n",
    "#计算差值的平方\n",
    "sqDiffMat = diff_Mat**2\n",
    "\n",
    "#求和\n",
    "sum_distance = sqDiffMat.sum(axis=1)\n",
    "\n",
    "#开方\n",
    "distance = sum_distance**0.5\n",
    "\n",
    "#从小到大排列\n",
    "sort_distance = distance.argsort()\n",
    "# print(sort_distance)\n",
    "\n",
    "#设置k\n",
    "k=5\n",
    "\n",
    "classCount = {}\n",
    "for i in range(k):\n",
    "    #获取标签\n",
    "    votelabel = y_data[sort_distance[i]]\n",
    "    #统计标签数量\n",
    "    classCount[votelabel] = classCount.get(votelabel,0) + 1\n",
    "\n",
    "#根据operate.itemgetter(1) - 第一个值对classCount排序，然后再取倒序\n",
    "sortedClassCount = sorted(classCount.items(),key=operator.itemgetter(1),reverse=True)\n",
    "\n",
    "#获取数量最多的标签\n",
    "knnclass = sortedClassCount[0][0]\n",
    "print(knnclass)\n"
   ]
  },
  {
   "cell_type": "code",
   "execution_count": null,
   "metadata": {
    "collapsed": true
   },
   "outputs": [],
   "source": []
  },
  {
   "cell_type": "code",
   "execution_count": null,
   "metadata": {
    "collapsed": true
   },
   "outputs": [],
   "source": []
  }
 ],
 "metadata": {
  "kernelspec": {
   "display_name": "Python 3",
   "language": "python",
   "name": "python3"
  },
  "language_info": {
   "codemirror_mode": {
    "name": "ipython",
    "version": 3
   },
   "file_extension": ".py",
   "mimetype": "text/x-python",
   "name": "python",
   "nbconvert_exporter": "python",
   "pygments_lexer": "ipython3",
   "version": "3.6.6"
  }
 },
 "nbformat": 4,
 "nbformat_minor": 2
}

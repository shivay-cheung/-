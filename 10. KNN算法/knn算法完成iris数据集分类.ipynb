{
 "cells": [
  {
   "cell_type": "code",
   "execution_count": 1,
   "metadata": {},
   "outputs": [
    {
     "name": "stdout",
     "output_type": "stream",
     "text": [
      "             precision    recall  f1-score   support\n",
      "\n",
      "          0       1.00      1.00      1.00        12\n",
      "          1       0.92      1.00      0.96        11\n",
      "          2       1.00      0.94      0.97        17\n",
      "\n",
      "avg / total       0.98      0.97      0.98        40\n",
      "\n"
     ]
    }
   ],
   "source": [
    "import numpy as np\n",
    "from sklearn import datasets\n",
    "from sklearn.model_selection import train_test_split\n",
    "from sklearn.metrics import classification_report,confusion_matrix\n",
    "import operator\n",
    "import random\n",
    "\n",
    "#\n",
    "def knn(x_test,x_data,y_data,k):\n",
    "    #计算样本数量\n",
    "    x_data_size = x_data.shape[0]\n",
    "    #复制x_test\n",
    "    np.tile(x_test,(x_data_size,1))\n",
    "    #计算x_test与每一个样本的差值\n",
    "    diffMat = np.tile(x_test,(x_data_size,1)) - x_data\n",
    "    #计算差值的平方\n",
    "    sqDiffMat = diffMat**2\n",
    "    #求和\n",
    "    sqDistances = sqDiffMat.sum(axis=1)\n",
    "    #开方\n",
    "    distance = sqDistances**0.5\n",
    "    #从小到大排序\n",
    "    sorted_Distance = distance.argsort()\n",
    "    classCount = {}\n",
    "    for i in range(k):\n",
    "        #获取标签\n",
    "        votelabel = y_data[sorted_Distance[i]]\n",
    "        #统计标签数量\n",
    "        classCount[votelabel] = classCount.get(votelabel,0) + 1\n",
    "    #根据operator.itemgetter(1) - 第一个值对classCount排序，然后再取倒序\n",
    "    sorted_ClassCount = sorted(classCount.items(),key=operator.itemgetter(1),reverse=True)\n",
    "    #获得数量最多的标签\n",
    "    return sorted_ClassCount[0][0]\n",
    "\n",
    "#载入数据\n",
    "iris = datasets.load_iris()\n",
    "\n",
    "###------------- 切分方式 1 -----------------\n",
    "#切分数据集 20%为测试数据 80%为训练数据\n",
    "# x_train,x_test,y_train,y_test = train_test_split(iris.data,iris.target,test_size=0.2)\n",
    "\n",
    "###------------- 自己实现 切分方式 2-----------------\n",
    "#打乱数据\n",
    "data_size = iris.data.shape[0]\n",
    "index = [i for i in range(data_size)]\n",
    "random.shuffle(index)#把index打乱\n",
    "iris.data = iris.data[index]\n",
    "iris.target = iris.target[index]\n",
    "\n",
    "#切分数据集\n",
    "test_size = 40\n",
    "x_train = iris.data[test_size:]\n",
    "x_test = iris.data[:test_size]\n",
    "y_train = iris.target[test_size:]\n",
    "y_test = iris.target[:test_size]\n",
    "\n",
    "predictions = []\n",
    "k = 5\n",
    "for i in range(x_test.shape[0]):\n",
    "    predictions.append(knn(x_test[i],x_train,y_train,k))\n",
    "    \n",
    "print(classification_report(y_test,predictions))"
   ]
  },
  {
   "cell_type": "code",
   "execution_count": 2,
   "metadata": {},
   "outputs": [
    {
     "name": "stdout",
     "output_type": "stream",
     "text": [
      "[[12  0  0]\n",
      " [ 0 11  0]\n",
      " [ 0  1 16]]\n"
     ]
    }
   ],
   "source": [
    "#混淆矩阵\n",
    "print(confusion_matrix(y_test,predictions))\n"
   ]
  }
 ],
 "metadata": {
  "kernelspec": {
   "display_name": "Python 3",
   "language": "python",
   "name": "python3"
  },
  "language_info": {
   "codemirror_mode": {
    "name": "ipython",
    "version": 3
   },
   "file_extension": ".py",
   "mimetype": "text/x-python",
   "name": "python",
   "nbconvert_exporter": "python",
   "pygments_lexer": "ipython3",
   "version": "3.6.6"
  }
 },
 "nbformat": 4,
 "nbformat_minor": 2
}

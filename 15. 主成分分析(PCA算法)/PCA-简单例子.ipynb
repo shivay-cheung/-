{
 "cells": [
  {
   "cell_type": "code",
   "execution_count": 1,
   "metadata": {},
   "outputs": [
    {
     "data": {
      "image/png": "[encoded data removed]",
      "text/plain": [
       "<Figure size 432x288 with 1 Axes>"
      ]
     },
     "metadata": {},
     "output_type": "display_data"
    }
   ],
   "source": [
    "import numpy as np\n",
    "import matplotlib.pyplot as plt\n",
    "\n",
    "#载入数据\n",
    "data = np.genfromtxt(\"data.csv\",delimiter=',')\n",
    "x_data = data[:,0]\n",
    "y_data = data[:,1]\n",
    "\n",
    "#### ----------------------  PCA 算法 ----------------------\n",
    "## 1. 对所有样本进行中心化\n",
    "def zeroMean(dataMat):\n",
    "    #按列求平均，即每个特征的平均值\n",
    "    meanVal = np.mean(dataMat,axis=0)\n",
    "    newData = dataMat - meanVal\n",
    "    return newData,meanVal\n",
    "\n",
    "newData,meanVal = zeroMean(data)\n",
    "\n",
    "##2. 计算样本的协方差矩阵 利用np.cov函数，参数rowvar=0说明数据一行代表一个样本\n",
    "covMat = np.cov(newData,rowvar=0)\n",
    "\n",
    "##3.  np.linalg.eig求矩阵的特征值(eigVals)和特征向量(eigVects)\n",
    "eigVals,eigVects = np.linalg.eig(np.mat(covMat))\n",
    "\n",
    "##4.  对特征值从小到大排序\n",
    "eigValIndice = np.argsort(eigVals)\n",
    "\n",
    "##5. 选取top个特征值的下标\n",
    "top = 1\n",
    "n_eigValIndice = eigValIndice[-1:-(top+1):-1]\n",
    "\n",
    "### 最大的n个特征值对应的特征向量\n",
    "n_eigVect = eigVects[:,n_eigValIndice]\n",
    "\n",
    "#### 将高维数据转成低维\n",
    "lowDDataMat = newData*n_eigVect\n",
    "\n",
    "### 利用低维数据来重构数据\n",
    "reconMat = (lowDDataMat*n_eigVect.T) + meanVal\n",
    "\n",
    "### 重构的数据\n",
    "plt.scatter(x_data,y_data)\n",
    "\n",
    "x_data = np.array(reconMat)[:,0]\n",
    "y_data = np.array(reconMat)[:,1]\n",
    "plt.scatter(x_data,y_data,c='r')\n",
    "plt.show()\n",
    "\n"
   ]
  },
  {
   "cell_type": "code",
   "execution_count": null,
   "metadata": {
    "collapsed": true
   },
   "outputs": [],
   "source": []
  },
  {
   "cell_type": "code",
   "execution_count": null,
   "metadata": {
    "collapsed": true
   },
   "outputs": [],
   "source": []
  },
  {
   "cell_type": "code",
   "execution_count": null,
   "metadata": {
    "collapsed": true
   },
   "outputs": [],
   "source": []
  }
 ],
 "metadata": {
  "kernelspec": {
   "display_name": "Python 3",
   "language": "python",
   "name": "python3"
  },
  "language_info": {
   "codemirror_mode": {
    "name": "ipython",
    "version": 3
   },
   "file_extension": ".py",
   "mimetype": "text/x-python",
   "name": "python",
   "nbconvert_exporter": "python",
   "pygments_lexer": "ipython3",
   "version": "3.6.6"
  }
 },
 "nbformat": 4,
 "nbformat_minor": 2
}

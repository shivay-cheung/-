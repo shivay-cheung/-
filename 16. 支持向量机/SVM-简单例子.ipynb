{
 "cells": [
  {
   "cell_type": "code",
   "execution_count": 5,
   "metadata": {},
   "outputs": [
    {
     "data": {
      "image/png": "[encoded data removed]",
      "text/plain": [
       "<Figure size 432x288 with 1 Axes>"
      ]
     },
     "metadata": {},
     "output_type": "display_data"
    },
    {
     "name": "stdout",
     "output_type": "stream",
     "text": [
      "[[1. 1.]\n",
      " [3. 3.]]\n",
      "[2 0]\n",
      "[1 1]\n",
      "[1]\n",
      "[[0.5 0.5]]\n",
      "[-2.]\n"
     ]
    }
   ],
   "source": [
    "from sklearn import svm\n",
    "import matplotlib.pyplot as plt\n",
    "import numpy as np\n",
    "\n",
    "x = [[3,3],[4,3],[1,1]]\n",
    "x = np.array(x)\n",
    "y = [1,1,-1]\n",
    "plt.scatter(x[:,0],x[:,1],c=y)\n",
    "plt.show()\n",
    "\n",
    "#创建模型 并训练\n",
    "model = svm.SVC(kernel='linear')\n",
    "model.fit(x,y)\n",
    "\n",
    "#打印支持向量\n",
    "print(model.support_vectors_)\n",
    "\n",
    "#查看哪几个样本属于支持向量\n",
    "print(model.support_)\n",
    "\n",
    "#有几个支持向量\n",
    "print(model.n_support_)\n",
    "\n",
    "#预测\n",
    "print(model.predict([[4,3]]))\n",
    "\n",
    "#\n",
    "print(model.coef_)\n",
    "\n",
    "#截距\n",
    "print(model.intercept_)\n",
    "\n"
   ]
  },
  {
   "cell_type": "code",
   "execution_count": null,
   "metadata": {
    "collapsed": true
   },
   "outputs": [],
   "source": []
  },
  {
   "cell_type": "code",
   "execution_count": null,
   "metadata": {
    "collapsed": true
   },
   "outputs": [],
   "source": []
  }
 ],
 "metadata": {
  "kernelspec": {
   "display_name": "Python 3",
   "language": "python",
   "name": "python3"
  },
  "language_info": {
   "codemirror_mode": {
    "name": "ipython",
    "version": 3
   },
   "file_extension": ".py",
   "mimetype": "text/x-python",
   "name": "python",
   "nbconvert_exporter": "python",
   "pygments_lexer": "ipython3",
   "version": "3.6.6"
  }
 },
 "nbformat": 4,
 "nbformat_minor": 2
}

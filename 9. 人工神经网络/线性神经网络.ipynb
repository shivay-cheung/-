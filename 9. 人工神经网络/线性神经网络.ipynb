{
 "cells": [
  {
   "cell_type": "code",
   "execution_count": null,
   "metadata": {
    "collapsed": true
   },
   "outputs": [],
   "source": []
  },
  {
   "cell_type": "code",
   "execution_count": 1,
   "metadata": {},
   "outputs": [
    {
     "name": "stdout",
     "output_type": "stream",
     "text": [
      "k=: [3.46839392]\n",
      "d=: [-4.61774151]\n"
     ]
    },
    {
     "data": {
      "image/png": "[encoded data removed]",
      "text/plain": [
       "<Figure size 432x288 with 1 Axes>"
      ]
     },
     "metadata": {},
     "output_type": "display_data"
    }
   ],
   "source": [
    "import numpy as np\n",
    "import matplotlib.pyplot as plt\n",
    "\n",
    "#输入数据\n",
    "X = np.array([[1,3,3],\n",
    "              [1,4,3],\n",
    "              [1,1,1],\n",
    "              [1,0,2]])\n",
    "#标签值\n",
    "Y = np.array([[1],\n",
    "              [1],\n",
    "             [-1],\n",
    "             [-1]])\n",
    "#权值 W ，取值范围[-1,1]\n",
    "W = (np.random.random([3,1])-0.5)*2\n",
    "# print(W)\n",
    "\n",
    "#学习率\n",
    "lr = 0.01\n",
    "\n",
    "#神经网络输出\n",
    "out = 0\n",
    "\n",
    "def updata():#权值更新\n",
    "    global X,Y,W,lr\n",
    "    out = np.dot(X,W)#激活函数 out = input\n",
    "    W_C = lr*(X.T.dot(Y-out))/int(X.shape[0])\n",
    "    W = W + W_C\n",
    "\n",
    "for i in range(100):\n",
    "    updata()\n",
    "    \n",
    "#正样本\n",
    "x1 = [3,4]\n",
    "y1 = [3,3]\n",
    "#负样本\n",
    "x2 = [1,0]\n",
    "y2 = [1,2]\n",
    "#计算分界线的斜率以及截距\n",
    "k = -W[1]/W[2]\n",
    "d = -W[0]/W[2]\n",
    "print(\"k=:\",k)\n",
    "print(\"d=:\",d)\n",
    "\n",
    "xdata = (0,5)\n",
    "plt.figure()\n",
    "plt.plot(xdata,xdata*k+d,'r')\n",
    "plt.scatter(x1,y1,c='b')\n",
    "plt.scatter(x2,y2,c='y')\n",
    "plt.show()\n"
   ]
  },
  {
   "cell_type": "markdown",
   "metadata": {},
   "source": [
    "# 线性神经网络解决异或问题"
   ]
  },
  {
   "cell_type": "code",
   "execution_count": 1,
   "metadata": {},
   "outputs": [
    {
     "data": {
      "image/png": "[encoded data removed]",
      "text/plain": [
       "<Figure size 432x288 with 1 Axes>"
      ]
     },
     "metadata": {},
     "output_type": "display_data"
    },
    {
     "name": "stdout",
     "output_type": "stream",
     "text": [
      "[-1.  1.  1. -1.]\n"
     ]
    }
   ],
   "source": [
    "import numpy  as np\n",
    "import matplotlib.pyplot as plt\n",
    "\n",
    "#输入数据\n",
    "X = np.array([[1,0,0,0,0,0],\n",
    "              [1,0,1,0,0,1],\n",
    "              [1,1,0,1,0,0],\n",
    "              [1,1,1,1,1,1]])\n",
    "#标签值\n",
    "Y = np.array([-1,1,1,-1])\n",
    "\n",
    "#权值初始化， 3行1列，取值范围[-1,1]\n",
    "W = (np.random.random(6)-0.5)*2\n",
    "\n",
    "#学习率\n",
    "lr=0.01\n",
    "\n",
    "#神经网络输出\n",
    "out = 0\n",
    "\n",
    "#权值更新\n",
    "def updata():\n",
    "    global X,Y,W,lr\n",
    "    out = np.dot(X,W)\n",
    "    W_C = lr*(X.T.dot(Y-out))/int(X.shape[0])\n",
    "    W = W + W_C\n",
    "    \n",
    "def calculate(x,root):\n",
    "    a=W[5]\n",
    "    b=W[2]+x*W[4]\n",
    "    c=W[0]+x*W[1]+x*x*W[3]\n",
    "    if root ==1:\n",
    "        return (-b+np.sqrt(b*b-4*a*c))/(2*a)\n",
    "    if root ==2:\n",
    "        return (-b-np.sqrt(b*b-4*a*c))/(2*a)\n",
    "    \n",
    "    \n",
    "for i in range(50000):\n",
    "    updata()\n",
    "#     print(\"epoch:\",i)#打印当前迭代次数\n",
    "#     print(W)#打印当前权值\n",
    "\n",
    "#正样本\n",
    "x1 = [1,0]\n",
    "y1 = [0,1]\n",
    "#负样本\n",
    "x2 = [1,0]\n",
    "y2 = [1,0]\n",
    "\n",
    "xdata = np.linspace(-1,2)\n",
    "\n",
    "plt.figure()\n",
    "\n",
    "plt.plot(xdata,calculate(xdata,1),'r')\n",
    "plt.plot(xdata,calculate(xdata,2),'r')\n",
    "\n",
    "plt.plot(x1,y1,'b.')\n",
    "plt.plot(x2,y2,'k.')\n",
    "plt.show()\n",
    "\n",
    "print(np.dot(X,W.T))"
   ]
  },
  {
   "cell_type": "code",
   "execution_count": null,
   "metadata": {
    "collapsed": true
   },
   "outputs": [],
   "source": []
  }
 ],
 "metadata": {
  "kernelspec": {
   "display_name": "Python 3",
   "language": "python",
   "name": "python3"
  },
  "language_info": {
   "codemirror_mode": {
    "name": "ipython",
    "version": 3
   },
   "file_extension": ".py",
   "mimetype": "text/x-python",
   "name": "python",
   "nbconvert_exporter": "python",
   "pygments_lexer": "ipython3",
   "version": "3.6.6"
  }
 },
 "nbformat": 4,
 "nbformat_minor": 2
}

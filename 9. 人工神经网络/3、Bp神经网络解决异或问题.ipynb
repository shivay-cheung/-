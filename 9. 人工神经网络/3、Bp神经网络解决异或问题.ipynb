{
 "cells": [
  {
   "cell_type": "code",
   "execution_count": null,
   "metadata": {
    "collapsed": true
   },
   "outputs": [],
   "source": []
  },
  {
   "cell_type": "code",
   "execution_count": 1,
   "metadata": {},
   "outputs": [
    {
     "name": "stdout",
     "output_type": "stream",
     "text": [
      "Error: 0.5002471650651975\n",
      "Error: 0.48794402504543394\n",
      "Error: 0.3991283594255162\n",
      "Error: 0.19744833046866858\n",
      "Error: 0.10905390455228137\n",
      "Error: 0.07768208509963702\n",
      "Error: 0.06203456579662079\n",
      "Error: 0.05256110997609486\n",
      "Error: 0.04613959977210309\n",
      "Error: 0.041458725951412416\n",
      "Error: 0.03787051979007097\n",
      "Error: 0.035016801113395106\n",
      "Error: 0.03268271995592289\n",
      "Error: 0.030731143785740635\n",
      "Error: 0.02907017070088934\n",
      "Error: 0.02763574278178339\n",
      "Error: 0.026381743158769476\n",
      "Error: 0.025274060678168373\n",
      "Error: 0.024286878122955706\n",
      "Error: 0.023400265934660654\n",
      "Error: 0.02259857337344517\n",
      "0\n",
      "1\n",
      "1\n",
      "0\n"
     ]
    }
   ],
   "source": [
    "import numpy as np\n",
    "import matplotlib.pyplot as plt\n",
    "\n",
    "#输入数据\n",
    "X = np.array([[1,0,0],\n",
    "              [1,0,1],\n",
    "              [1,1,0],\n",
    "              [1,1,1]])\n",
    "#标签值\n",
    "Y = np.array([[0,1,1,0]])\n",
    "\n",
    "#权值初始化，W_1: 3行4列，取值范围[-1,1]\n",
    "W_1 = (np.random.random((3,4))-0.5)*2\n",
    "#权值初始化，W_2: 4行1列，取值范围[-1,1]\n",
    "W_2 = (np.random.random((4,1))-0.5)*2\n",
    "\n",
    "#学习率\n",
    "lr=0.1\n",
    "\n",
    "def sigmoid(x):\n",
    "    return 1/(1+np.exp(-x))\n",
    "\n",
    "#sigmoid 函数的导数\n",
    "def dsigmoid(x):\n",
    "    return x*(1-x)\n",
    "\n",
    "def update():#权值更新\n",
    "    global X,Y,W_1,W_2,lr\n",
    "    \n",
    "    L1 = sigmoid(np.dot(X,W_1))#隐藏层输出 4X4矩阵\n",
    "    L2 = sigmoid(np.dot(L1,W_2))#输出层输出 4X1矩阵\n",
    "    \n",
    "    L2_delta = (Y.T - L2)*dsigmoid(L2)\n",
    "    L1_delta = L2_delta.dot(W_2.T)*dsigmoid(L1)\n",
    "    \n",
    "    W2_C = lr * L1.T.dot(L2_delta)\n",
    "    W1_C = lr * X.T.dot(L1_delta)\n",
    "    \n",
    "    W_2 = W_2 + W2_C\n",
    "    W_1 = W_1 + W1_C\n",
    "\n",
    "def judge(x):\n",
    "    if x>=0.5:\n",
    "        return 1\n",
    "    return 0\n",
    "    \n",
    "for i in range(20001):\n",
    "    update()\n",
    "    if i%1000 ==0:\n",
    "        L1 = sigmoid(np.dot(X,W_1))#隐藏层输出 4X4矩阵\n",
    "        L2 = sigmoid(np.dot(L1,W_2))#输出层输出 4X1矩阵\n",
    "        print(\"Error:\",np.mean(np.abs(Y.T-L2)))\n",
    "L1 = sigmoid(np.dot(X,W_1))#隐藏层输出 4X4矩阵\n",
    "L2 = sigmoid(np.dot(L1,W_2))#输出层输出 4X1矩阵    \n",
    "\n",
    "for i in map(judge,L2):\n",
    "    print(i)"
   ]
  },
  {
   "cell_type": "code",
   "execution_count": null,
   "metadata": {
    "collapsed": true
   },
   "outputs": [],
   "source": []
  }
 ],
 "metadata": {
  "kernelspec": {
   "display_name": "Python 3",
   "language": "python",
   "name": "python3"
  },
  "language_info": {
   "codemirror_mode": {
    "name": "ipython",
    "version": 3
   },
   "file_extension": ".py",
   "mimetype": "text/x-python",
   "name": "python",
   "nbconvert_exporter": "python",
   "pygments_lexer": "ipython3",
   "version": "3.6.6"
  }
 },
 "nbformat": 4,
 "nbformat_minor": 2
}

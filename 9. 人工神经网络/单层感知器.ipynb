{
 "cells": [
  {
   "cell_type": "markdown",
   "metadata": {},
   "source": [
    "# 单层感知器"
   ]
  },
  {
   "cell_type": "code",
   "execution_count": 2,
   "metadata": {},
   "outputs": [
    {
     "name": "stdout",
     "output_type": "stream",
     "text": [
      "Finished\n",
      "epoch: 23\n",
      "k=: [1.18351724]\n",
      "d=: [-0.36843481]\n"
     ]
    },
    {
     "data": {
      "image/png": "[encoded data removed]",
      "text/plain": [
       "<Figure size 432x288 with 1 Axes>"
      ]
     },
     "metadata": {},
     "output_type": "display_data"
    }
   ],
   "source": [
    "import numpy as np\n",
    "import matplotlib.pyplot as plt\n",
    "\n",
    "#输入数据\n",
    "X = np.array([[1,3,3],\n",
    "              [1,4,3],\n",
    "              [1,1,1],\n",
    "              [1,0,2]])\n",
    "#标签值\n",
    "Y = np.array([[1],\n",
    "              [1],\n",
    "             [-1],\n",
    "             [-1]])\n",
    "#权值 W ，取值范围[-1,1]\n",
    "W = (np.random.random([3,1])-0.5)*2\n",
    "# print(W)\n",
    "\n",
    "#学习率\n",
    "lr = 0.01\n",
    "\n",
    "#神经网络输出\n",
    "out = 0\n",
    "\n",
    "def updata():#权值更新\n",
    "    global X,Y,W,lr\n",
    "    out = np.sign(np.dot(X,W))\n",
    "    W_C = lr*(X.T.dot(Y-out))/int(X.shape[0])\n",
    "    W = W + W_C\n",
    "\n",
    "#\n",
    "for i in range(101):\n",
    "    updata()\n",
    "#     print(\"epoch:\",i)#打印当前迭代次数\n",
    "#     print(W)#打印当前权值\n",
    "    out = np.sign(np.dot(X,W))#计算当前输出\n",
    "    #如果实际输出等于期望输出，则模型收敛 ，循环结束\n",
    "    if(out == Y).all():\n",
    "        print(\"Finished\")\n",
    "        print(\"epoch:\",i)\n",
    "        break\n",
    "#正样本\n",
    "x1 = [3,4]\n",
    "y1 = [3,3]\n",
    "#负样本\n",
    "x2 = [1,0]\n",
    "y2 = [1,2]\n",
    "#计算分界线的斜率以及截距\n",
    "k = -W[1]/W[2]\n",
    "d = -W[0]/W[2]\n",
    "print(\"k=:\",k)\n",
    "print(\"d=:\",d)\n",
    "\n",
    "xdata = (0,5)\n",
    "\n",
    "plt.figure()\n",
    "plt.plot(xdata,xdata*k+d,'r')\n",
    "plt.scatter(x1,y1,c='b')\n",
    "plt.scatter(x2,y2,c='k')\n",
    "plt.show()\n"
   ]
  },
  {
   "cell_type": "markdown",
   "metadata": {},
   "source": [
    "# 单层感知器-异或问题"
   ]
  },
  {
   "cell_type": "code",
   "execution_count": 1,
   "metadata": {},
   "outputs": [
    {
     "name": "stdout",
     "output_type": "stream",
     "text": [
      "k=: [0.99646868]\n",
      "d=: [-0.00226636]\n"
     ]
    },
    {
     "data": {
      "image/png": "[encoded data removed]",
      "text/plain": [
       "<Figure size 432x288 with 1 Axes>"
      ]
     },
     "metadata": {},
     "output_type": "display_data"
    }
   ],
   "source": [
    "\"\"\"\n",
    "异或：相同为 0 ，不同为 1\n",
    "0^0 = 0\n",
    "0^1 = 1\n",
    "1^0 = 1\n",
    "1^1 = 0\n",
    "\"\"\"\n",
    "import numpy  as np\n",
    "import matplotlib.pyplot as plt\n",
    "\n",
    "#输入数据\n",
    "X = np.array([[1,0,0],\n",
    "              [1,0,1],\n",
    "              [1,1,0],\n",
    "              [1,1,1]])\n",
    "#标签值\n",
    "Y = np.array([[-1],\n",
    "              [1],\n",
    "              [1],\n",
    "              [-1]])\n",
    "\n",
    "#权值初始化， 3行1列，取值范围[-1,1]\n",
    "W = (np.random.random([3,1])-0.5)*2\n",
    "\n",
    "#学习率\n",
    "lr=0.01\n",
    "\n",
    "#神经网络输出\n",
    "out = 0\n",
    "\n",
    "def updata():#权值更新\n",
    "    global X,Y,W,lr\n",
    "    out = np.sign(np.dot(X,W))\n",
    "    W_C = lr*(X.T.dot(Y-out))/int(X.shape[0])\n",
    "    W = W + W_C\n",
    "\n",
    "#\n",
    "for i in range(101):\n",
    "    updata()\n",
    "#     print(\"epoch:\",i)#打印当前迭代次数\n",
    "#     print(W)#打印当前权值\n",
    "    out = np.sign(np.dot(X,W))#计算当前输出\n",
    "    #如果实际输出等于期望输出，则模型收敛 ，循环结束\n",
    "    if(out == Y).all():\n",
    "        print(\"Finished\")\n",
    "        print(\"epoch:\",i)\n",
    "        break\n",
    "#正样本\n",
    "x1 = [1,0]\n",
    "y1 = [0,1]\n",
    "#负样本\n",
    "x2 = [1,0]\n",
    "y2 = [1,0]\n",
    "#计算分界线的斜率以及截距\n",
    "k = -W[1]/W[2]\n",
    "d = -W[0]/W[2]\n",
    "print(\"k=:\",k)\n",
    "print(\"d=:\",d)\n",
    "\n",
    "xdata = (-2,3)\n",
    "\n",
    "plt.figure()\n",
    "plt.plot(xdata,xdata*k+d,'r')\n",
    "plt.scatter(x1,y1,c='b')\n",
    "plt.scatter(x2,y2,c='k')\n",
    "plt.show()\n",
    "\n",
    "\n"
   ]
  },
  {
   "cell_type": "code",
   "execution_count": null,
   "metadata": {
    "collapsed": true
   },
   "outputs": [],
   "source": []
  },
  {
   "cell_type": "code",
   "execution_count": null,
   "metadata": {
    "collapsed": true
   },
   "outputs": [],
   "source": []
  }
 ],
 "metadata": {
  "kernelspec": {
   "display_name": "Python 3",
   "language": "python",
   "name": "python3"
  },
  "language_info": {
   "codemirror_mode": {
    "name": "ipython",
    "version": 3
   },
   "file_extension": ".py",
   "mimetype": "text/x-python",
   "name": "python",
   "nbconvert_exporter": "python",
   "pygments_lexer": "ipython3",
   "version": "3.6.6"
  }
 },
 "nbformat": 4,
 "nbformat_minor": 2
}

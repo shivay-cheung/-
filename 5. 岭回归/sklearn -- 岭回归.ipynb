{
 "cells": [
  {
   "cell_type": "markdown",
   "metadata": {},
   "source": [
    "# sklearn 实现岭回归"
   ]
  },
  {
   "cell_type": "code",
   "execution_count": 1,
   "metadata": {},
   "outputs": [
    {
     "name": "stdout",
     "output_type": "stream",
     "text": [
      "0.4082224489795918\n",
      "(16, 50)\n"
     ]
    },
    {
     "data": {
      "image/png": "[encoded data removed]",
      "text/plain": [
       "<Figure size 432x288 with 1 Axes>"
      ]
     },
     "metadata": {},
     "output_type": "display_data"
    },
    {
     "name": "stdout",
     "output_type": "stream",
     "text": [
      "[88.11213631]\n"
     ]
    }
   ],
   "source": [
    "import numpy as np \n",
    "from sklearn import linear_model \n",
    "import matplotlib.pyplot as plt\n",
    "\n",
    "#读取数据 \n",
    "data = np.genfromtxt(\"longley.csv\",delimiter=',')\n",
    "\n",
    "# print(data)\n",
    "#切分数据 \n",
    "x_data=data[1:,2:] \n",
    "y_data=data[1:,1]\n",
    "\n",
    "# print(x_data)\n",
    "# print(y_data)\n",
    "#创建模型\n",
    "\n",
    "#生成50个值 代表岭回归系数，作为候选值 \n",
    "alphas_to_test = np.linspace(0.0001,1)\n",
    "\n",
    "#创建模型，保存误差值 \n",
    "model = linear_model.RidgeCV(alphas=alphas_to_test,store_cv_values=True)\n",
    "#岭回归 交叉验证 \n",
    "model.fit(x_data,y_data)\n",
    "\n",
    "#岭系数 \n",
    "print(model.alpha_)\n",
    "\n",
    "#loss值 \n",
    "print(model.cv_values_.shape)#样本个数 * 岭系数的个数\n",
    "\n",
    "#画图\n",
    "\n",
    "#岭系数和loss值之间的关系 \n",
    "plt.plot(alphas_to_test,model.cv_values_.mean(axis=0))\n",
    "\n",
    "#选取的岭系数值的位置 \n",
    "plt.plot(model.alpha_,min(model.cv_values_.mean(axis=0)),'r.') \n",
    "plt.show()\n",
    "\n",
    "#预测 \n",
    "print(model.predict(x_data[2,np.newaxis]))"
   ]
  },
  {
   "cell_type": "markdown",
   "metadata": {},
   "source": [
    "# 标准方程法实现岭回归"
   ]
  },
  {
   "cell_type": "code",
   "execution_count": 6,
   "metadata": {},
   "outputs": [
    {
     "data": {
      "text/plain": [
       "matrix([[88.10951038]])"
      ]
     },
     "execution_count": 6,
     "metadata": {},
     "output_type": "execute_result"
    }
   ],
   "source": [
    "import numpy as np \n",
    "import matplotlib.pyplot as plt\n",
    "\n",
    "#读取数据 \n",
    "data = np.genfromtxt(\"longley.csv\",delimiter=',')\n",
    "\n",
    "# print(data)\n",
    "#切分数据 \n",
    "x_data=data[1:,2:] \n",
    "y_data=data[1:,1,np.newaxis]\n",
    "\n",
    "#给样本添加偏置\n",
    "X_data = np.concatenate((np.ones((16,1)),x_data),axis=1)\n",
    "# print(X_data.shape)\n",
    "\n",
    "# 岭回归标准方程法求解回归参数\n",
    "def weights(xArr,yArr,lam=0.4):\n",
    "    xMat = np.mat(xArr)\n",
    "    yMat = np.mat(yArr)\n",
    "    xTx = xMat.T*xMat #矩阵乘法\n",
    "    rxTx = xTx + np.eye(xMat.shape[1])*lam\n",
    "    #计算矩阵的值，如果为0，说明该矩阵没有逆矩阵\n",
    "    if np.linalg.det(rxTx) == 0.0:\n",
    "        print(\"This matrix cannot do inverse\")\n",
    "        return \n",
    "    #存在逆矩阵\n",
    "    ws = rxTx.I*xMat.T*yMat\n",
    "    return ws\n",
    "\n",
    "ws = weights(X_data,y_data)\n",
    "# print(ws)\n",
    "\n",
    "#计算预测值\n",
    "np.mat(X_data[2])*np.mat(ws)"
   ]
  },
  {
   "cell_type": "code",
   "execution_count": null,
   "metadata": {
    "collapsed": true
   },
   "outputs": [],
   "source": []
  }
 ],
 "metadata": {
  "kernelspec": {
   "display_name": "Python 3",
   "language": "python",
   "name": "python3"
  },
  "language_info": {
   "codemirror_mode": {
    "name": "ipython",
    "version": 3
   },
   "file_extension": ".py",
   "mimetype": "text/x-python",
   "name": "python",
   "nbconvert_exporter": "python",
   "pygments_lexer": "ipython3",
   "version": "3.6.6"
  }
 },
 "nbformat": 4,
 "nbformat_minor": 2
}

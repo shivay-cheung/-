{
 "cells": [
  {
   "cell_type": "markdown",
   "metadata": {},
   "source": [
    "# sklearn 实现弹性网"
   ]
  },
  {
   "cell_type": "code",
   "execution_count": 1,
   "metadata": {},
   "outputs": [
    {
     "name": "stdout",
     "output_type": "stream",
     "text": [
      "42.96498005089394\n",
      "[0.1016487  0.00416716 0.00349843 0.         0.         0.        ]\n",
      "[115.6037171]\n"
     ]
    }
   ],
   "source": [
    "import numpy as np\n",
    "from sklearn import linear_model\n",
    "\n",
    "#载入数据\n",
    "data = np.genfromtxt(\"longley.csv\",delimiter=',')\n",
    "# print(data)\n",
    "\n",
    "#切分数据\n",
    "x_data = data[1:,2:]\n",
    "y_data = data[1:,1]\n",
    "# print(x_data)\n",
    "# print(y_data)\n",
    "\n",
    "#创建模型\n",
    "model = linear_model.ElasticNetCV()\n",
    "model.fit(x_data,y_data)\n",
    "\n",
    "#弹性网系数\n",
    "print(model.alpha_)\n",
    "\n",
    "#相关系数\n",
    "print(model.coef_)\n",
    "\n",
    "#打印预测\n",
    "print(model.predict(x_data[-2,np.newaxis]))\n"
   ]
  },
  {
   "cell_type": "code",
   "execution_count": null,
   "metadata": {
    "collapsed": true
   },
   "outputs": [],
   "source": []
  },
  {
   "cell_type": "code",
   "execution_count": null,
   "metadata": {
    "collapsed": true
   },
   "outputs": [],
   "source": []
  },
  {
   "cell_type": "code",
   "execution_count": null,
   "metadata": {
    "collapsed": true
   },
   "outputs": [],
   "source": []
  }
 ],
 "metadata": {
  "kernelspec": {
   "display_name": "Python 3",
   "language": "python",
   "name": "python3"
  },
  "language_info": {
   "codemirror_mode": {
    "name": "ipython",
    "version": 3
   },
   "file_extension": ".py",
   "mimetype": "text/x-python",
   "name": "python",
   "nbconvert_exporter": "python",
   "pygments_lexer": "ipython3",
   "version": "3.6.6"
  }
 },
 "nbformat": 4,
 "nbformat_minor": 2
}

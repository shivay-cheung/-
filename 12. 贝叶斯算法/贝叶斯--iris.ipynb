{
 "cells": [
  {
   "cell_type": "code",
   "execution_count": 1,
   "metadata": {},
   "outputs": [
    {
     "name": "stdout",
     "output_type": "stream",
     "text": [
      "---------------------- MultinomialNB ---------------------- \n",
      "              precision    recall  f1-score   support\n",
      "\n",
      "           0       1.00      1.00      1.00        13\n",
      "           1       1.00      0.69      0.81        16\n",
      "           2       0.64      1.00      0.78         9\n",
      "\n",
      "    accuracy                           0.87        38\n",
      "   macro avg       0.88      0.90      0.87        38\n",
      "weighted avg       0.92      0.87      0.87        38\n",
      "\n",
      "[[13  0  0]\n",
      " [ 0 11  5]\n",
      " [ 0  0  9]]\n",
      "---------------------- BernoulliNB ---------------------- \n",
      "              precision    recall  f1-score   support\n",
      "\n",
      "           0       0.00      0.00      0.00         0\n",
      "           1       1.00      0.29      0.45        38\n",
      "           2       0.00      0.00      0.00         0\n",
      "\n",
      "    accuracy                           0.29        38\n",
      "   macro avg       0.33      0.10      0.15        38\n",
      "weighted avg       1.00      0.29      0.45        38\n",
      "\n",
      "[[ 0  0  0]\n",
      " [13 11 14]\n",
      " [ 0  0  0]]\n",
      "---------------------- GaussianNB ---------------------- \n",
      "              precision    recall  f1-score   support\n",
      "\n",
      "           0       0.00      0.00      0.00         0\n",
      "           1       1.00      0.29      0.45        38\n",
      "           2       0.00      0.00      0.00         0\n",
      "\n",
      "    accuracy                           0.29        38\n",
      "   macro avg       0.33      0.10      0.15        38\n",
      "weighted avg       1.00      0.29      0.45        38\n",
      "\n",
      "[[ 0  0  0]\n",
      " [13 11 14]\n",
      " [ 0  0  0]]\n"
     ]
    }
   ],
   "source": [
    "import numpy as np\n",
    "from sklearn import datasets\n",
    "from sklearn.model_selection import train_test_split\n",
    "from sklearn.metrics import classification_report,confusion_matrix\n",
    "from sklearn.naive_bayes import MultinomialNB,BernoulliNB,GaussianNB\n",
    "import warnings\n",
    "\n",
    "warnings.filterwarnings(\"ignore\")#消除警告\n",
    "\n",
    "#加载数据\n",
    "iris = datasets.load_iris()\n",
    "x_train,x_test,y_train,y_test = train_test_split(iris.data,iris.target)\n",
    "\n",
    "#------------------ 创建多项式模型 MultinomialNB ------------------ \n",
    "mul_nb = MultinomialNB()\n",
    "mul_nb.fit(x_train,y_train)\n",
    "\n",
    "print(\"---------------------- MultinomialNB ---------------------- \")\n",
    "print(classification_report(mul_nb.predict(x_test),y_test))\n",
    "print(confusion_matrix(mul_nb.predict(x_test),y_test))\n",
    "\n",
    "#------------------ 创建伯努利模型 BernoulliNB ------------------ \n",
    "ber_nb = BernoulliNB()\n",
    "ber_nb.fit(x_train,y_train)\n",
    "\n",
    "print(\"---------------------- BernoulliNB ---------------------- \")\n",
    "print(classification_report(ber_nb.predict(x_test),y_test))\n",
    "print(confusion_matrix(ber_nb.predict(x_test),y_test))\n",
    "\n",
    "#------------------ 创建高斯模型 GaussianNB ------------------ \n",
    "gau_nb = BernoulliNB()#用于连续型数据\n",
    "gau_nb.fit(x_train,y_train)\n",
    "\n",
    "print(\"---------------------- GaussianNB ---------------------- \")\n",
    "print(classification_report(gau_nb.predict(x_test),y_test))\n",
    "print(confusion_matrix(gau_nb.predict(x_test),y_test))\n",
    "\n",
    "\n",
    "\n"
   ]
  },
  {
   "cell_type": "code",
   "execution_count": null,
   "metadata": {
    "collapsed": true
   },
   "outputs": [],
   "source": []
  },
  {
   "cell_type": "code",
   "execution_count": null,
   "metadata": {
    "collapsed": true
   },
   "outputs": [],
   "source": []
  },
  {
   "cell_type": "code",
   "execution_count": null,
   "metadata": {
    "collapsed": true
   },
   "outputs": [],
   "source": []
  }
 ],
 "metadata": {
  "kernelspec": {
   "display_name": "Python 3",
   "language": "python",
   "name": "python3"
  },
  "language_info": {
   "codemirror_mode": {
    "name": "ipython",
    "version": 3
   },
   "file_extension": ".py",
   "mimetype": "text/x-python",
   "name": "python",
   "nbconvert_exporter": "python",
   "pygments_lexer": "ipython3",
   "version": "3.6.6"
  }
 },
 "nbformat": 4,
 "nbformat_minor": 2
}
